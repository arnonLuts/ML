{
  "nbformat": 4,
  "nbformat_minor": 0,
  "metadata": {
    "colab": {
      "provenance": [],
      "include_colab_link": true
    },
    "kernelspec": {
      "name": "python3",
      "display_name": "Python 3"
    },
    "language_info": {
      "name": "python"
    }
  },
  "cells": [
    {
      "cell_type": "markdown",
      "metadata": {
        "id": "view-in-github",
        "colab_type": "text"
      },
      "source": [
        "<a href=\"https://colab.research.google.com/github/arnonLuts/ML/blob/main/TDS_Project_p1.ipynb\" target=\"_parent\"><img src=\"https://colab.research.google.com/assets/colab-badge.svg\" alt=\"Open In Colab\"/></a>"
      ]
    },
    {
      "cell_type": "markdown",
      "source": [
        "# Tabular Data Science - Part #1\n",
        "### Tal Ariel Ziv, Arnon Lutsky"
      ],
      "metadata": {
        "id": "3o9quY7wOSoY"
      }
    },
    {
      "cell_type": "markdown",
      "source": [
        "In this project, we aim to explore the fascinating intersection of movies and data science by building a predictive model for box office revenue. Using a dataset containing various attributes of movies, such as genre, cast, budget, runtime, release date, and more, we will analyze patterns and trends to determine what factors contribute to a film's financial success.\n",
        "\n"
      ],
      "metadata": {
        "id": "EwiIVc94PnnJ"
      }
    },
    {
      "cell_type": "code",
      "source": [
        "import kagglehub\n",
        "\n",
        "# Download latest version\n",
        "path = kagglehub.dataset_download(\"rounakbanik/the-movies-dataset\")\n",
        "\n",
        "print(\"Path to dataset files:\", path)"
      ],
      "metadata": {
        "id": "_lTDiV-NNiXy"
      },
      "execution_count": null,
      "outputs": []
    },
    {
      "cell_type": "code",
      "source": [],
      "metadata": {
        "id": "TmZz-wY4QQHi"
      },
      "execution_count": null,
      "outputs": []
    }
  ]
}